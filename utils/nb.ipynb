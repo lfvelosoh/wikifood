{
 "cells": [
  {
   "cell_type": "code",
   "execution_count": 61,
   "metadata": {},
   "outputs": [],
   "source": [
    "import pandas as pd\n",
    "import re\n",
    "import unicodedata\n",
    "import sqlite3"
   ]
  },
  {
   "cell_type": "code",
   "execution_count": 62,
   "metadata": {},
   "outputs": [],
   "source": [
    "table = pd.read_excel('taco.xlsx', sheet_name='CMVCol taco3', header=[0, 1, 2])\n",
    "\n",
    "# Combinar as três primeiras linhas do cabeçalho em uma única linha\n",
    "table.columns = [' '.join(map(str, col)).strip() for col in table.columns.values]\n",
    "\n",
    "# Remove a string \"Unnamed: \\n_level_\\n\" em que \\n corresponde a um número\n",
    "table.columns = [re.sub(r'Unnamed:\\s\\d+_level_\\d+\\s', '', col) for col in table.columns]\n",
    "\n",
    "table.rename(columns={'Número do Descrição dos alimentos': 'Descrição do Alimento'}, inplace=True)\n",
    "\n",
    "table.dropna(subset=['Número do Alimento'], inplace=True)\n",
    "\n",
    "table['Número do Alimento'] = table['Número do Alimento'].astype(str)\n",
    "table = table[~table['Número do Alimento'].str.contains('Número do')]\n",
    "table = table[~table['Número do Alimento'].str.contains('Alimento')]\n",
    "\n",
    "table['Tipo do alimento'] = table.apply(\n",
    "lambda row: row['Número do Alimento'] if pd.isna(row['Descrição do Alimento']) else pd.NA, axis=1\n",
    ").ffill()\n",
    "\n",
    "table.dropna(subset=['Descrição do Alimento'], inplace=True)\n",
    "\n",
    "table.dropna(subset=['Número do Alimento'], inplace=True)\n"
   ]
  },
  {
   "cell_type": "code",
   "execution_count": 63,
   "metadata": {
    "vscode": {
     "languageId": "ruby"
    }
   },
   "outputs": [],
   "source": [
    "# Ler o arquivo Excel\n",
    "\n",
    "fats = pd.read_excel('taco.xlsx', sheet_name='AGtaco3', header=[0, 1, 2])\n",
    "    \n",
    "# Combinar as três primeiras linhas do cabeçalho em uma única linha\n",
    "fats.columns = [' '.join(map(str, col)).strip() for col in fats.columns.values]\n",
    "\n",
    "# Remove a string \"Unnamed: \\n_level_\\n\" em que \\n corresponde a um número\n",
    "fats.columns = [re.sub(r'Unnamed:\\s\\d+_level_\\d+\\s', '', col) for col in fats.columns]\n",
    "\n",
    "fats.rename(columns={'Número do Descrição dos alimentos': 'Descrição do Alimento'}, inplace=True)\n",
    "\n",
    "fats.dropna(subset=['Número do Alimento'], inplace=True)\n",
    "\n",
    "fats['Número do Alimento'] = fats['Número do Alimento'].astype(str)\n",
    "fats = fats[~fats['Número do Alimento'].str.contains('Número do')]\n",
    "fats = fats[~fats['Número do Alimento'].str.contains('Alimento')]\n",
    "\n",
    "fats = fats.iloc[:, :5]\n",
    "\n",
    "fats.drop(fats.columns[1], axis=1, inplace=True)\n",
    "\n",
    "fats.dropna(inplace=True)\n",
    "\n"
   ]
  },
  {
   "cell_type": "code",
   "execution_count": 64,
   "metadata": {},
   "outputs": [],
   "source": [
    "table = table.merge(fats, on=\"Número do Alimento\", how=\"left\")\n",
    "table = table[table['Tipo do alimento'] != 'Legenda']\n",
    "table.rename(columns={'Número do Alimento': 'ID Alimento'}, inplace=True)\n",
    "table.columns = table.columns.str.lower()\n",
    "table.columns = table.columns.str.replace(\"- \", \"\")\n",
    "table.columns = [unicodedata.normalize('NFKD', col).encode('ASCII', 'ignore').decode('utf-8') for col in table.columns]\n",
    "table.drop(columns=['fibra numero do alimento'], inplace=True)"
   ]
  },
  {
   "cell_type": "code",
   "execution_count": 65,
   "metadata": {},
   "outputs": [],
   "source": [
    "table = table[['id alimento', 'tipo do alimento', 'descricao do alimento', 'umidade (%)', 'energia (kcal)', 'energia (kj)', 'proteina (g)', 'lipideos (g)', 'saturados (g)', 'monoinsaturados (g)', 'poliinsaturados (g)', 'colesterol (mg)', 'carboidrato (g)', 'fibra alimentar (g)', 'fibra cinzas (g)', 'fibra calcio (mg)', 'fibra magnesio (mg)', 'fibra manganes (mg)', 'fibra fosforo (mg)',\n",
    "               'fibra ferro (mg)', 'fibra sodio (mg)', 'fibra potassio (mg)', 'fibra cobre (mg)', 'fibra zinco (mg)', 'fibra retinol (mcg)', 'fibra re (mcg)', 'fibra rae  (mcg)', 'fibra tiamina (mg)', 'fibra riboflavina (mg)', 'fibra piridoxina (mg)', 'fibra niacina (mg)', 'vitamina c (mg)',]]"
   ]
  },
  {
   "cell_type": "code",
   "execution_count": 66,
   "metadata": {},
   "outputs": [],
   "source": [
    "table.rename(columns={'saturados (g)': 'lipideos saturados (g)', 'monoinsaturados (g)': 'lipideos monoinsaturados (g)', 'poliinsaturados (g)': ' lipideos poliinsaturados (g)' }, inplace=True)"
   ]
  },
  {
   "cell_type": "code",
   "execution_count": 67,
   "metadata": {},
   "outputs": [],
   "source": [
    "pd.set_option('future.no_silent_downcasting', True)\n",
    "table.iloc[:, 3:] = table.iloc[:, 3:].replace('*', 0)\n",
    "table.iloc[:, 3:] = table.iloc[:, 3:].replace(' Tr', 0)\n",
    "table.iloc[:, 3:] = table.iloc[:, 3:].replace('Tr', 0)\n",
    "table.iloc[:, 3:] = table.iloc[:, 3:].replace(' ', 0)\n",
    "table.iloc[:, 3:] = table.iloc[:, 3:].replace(\",\", \"\")"
   ]
  },
  {
   "cell_type": "code",
   "execution_count": 68,
   "metadata": {},
   "outputs": [],
   "source": [
    "table.iloc[:,3:] = table.iloc[:,3:].replace(',0,02', '0.02')"
   ]
  },
  {
   "cell_type": "code",
   "execution_count": 69,
   "metadata": {},
   "outputs": [],
   "source": [
    "table.iloc[:, 3:] = table.iloc[:, 3:].astype(float)"
   ]
  },
  {
   "cell_type": "code",
   "execution_count": 70,
   "metadata": {},
   "outputs": [],
   "source": [
    "conn = sqlite3.connect('dados.db')\n",
    "table.to_sql('tabela', conn, if_exists='replace', index=False)\n",
    "conn.close()"
   ]
  }
 ],
 "metadata": {
  "kernelspec": {
   "display_name": "Python 3",
   "language": "python",
   "name": "python3"
  },
  "language_info": {
   "codemirror_mode": {
    "name": "ipython",
    "version": 3
   },
   "file_extension": ".py",
   "mimetype": "text/x-python",
   "name": "python",
   "nbconvert_exporter": "python",
   "pygments_lexer": "ipython3",
   "version": "3.12.3"
  }
 },
 "nbformat": 4,
 "nbformat_minor": 2
}
